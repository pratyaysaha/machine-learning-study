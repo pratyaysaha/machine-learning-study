{
 "cells": [
  {
   "cell_type": "code",
   "execution_count": 10,
   "metadata": {},
   "outputs": [],
   "source": [
    "import random"
   ]
  },
  {
   "cell_type": "code",
   "execution_count": 11,
   "metadata": {},
   "outputs": [
    {
     "name": "stdout",
     "output_type": "stream",
     "text": [
      "[[1 3 4]\n",
      " [3 4 5]] 2\n",
      "3\n"
     ]
    }
   ],
   "source": [
    "import numpy as np\n",
    "\n",
    "a= np.array([[1,3,4],[3,4,5]])\n",
    "print(a, a.ndim)\n",
    "print(a.shape[1])"
   ]
  },
  {
   "cell_type": "markdown",
   "metadata": {},
   "source": [
    "Array declaration and Reshaping"
   ]
  },
  {
   "cell_type": "code",
   "execution_count": 12,
   "metadata": {},
   "outputs": [
    {
     "name": "stdout",
     "output_type": "stream",
     "text": [
      "[[1 2 3]\n",
      " [4 5 6]]\n"
     ]
    }
   ],
   "source": [
    "a=[1,2,3,4,5,6]\n",
    "npA= np.array(a)\n",
    "npA\n",
    "\n",
    "npB = npA.reshape(2,3)\n",
    "print(npB)"
   ]
  },
  {
   "cell_type": "markdown",
   "metadata": {},
   "source": [
    "Array linspace function"
   ]
  },
  {
   "cell_type": "code",
   "execution_count": 13,
   "metadata": {},
   "outputs": [
    {
     "data": {
      "text/plain": [
       "array([ 1.        ,  1.31034483,  1.62068966,  1.93103448,  2.24137931,\n",
       "        2.55172414,  2.86206897,  3.17241379,  3.48275862,  3.79310345,\n",
       "        4.10344828,  4.4137931 ,  4.72413793,  5.03448276,  5.34482759,\n",
       "        5.65517241,  5.96551724,  6.27586207,  6.5862069 ,  6.89655172,\n",
       "        7.20689655,  7.51724138,  7.82758621,  8.13793103,  8.44827586,\n",
       "        8.75862069,  9.06896552,  9.37931034,  9.68965517, 10.        ])"
      ]
     },
     "execution_count": 13,
     "metadata": {},
     "output_type": "execute_result"
    }
   ],
   "source": [
    "a= np.linspace(1,10,30)\n",
    "a"
   ]
  },
  {
   "cell_type": "markdown",
   "metadata": {},
   "source": [
    "Array arange and reshape"
   ]
  },
  {
   "cell_type": "code",
   "execution_count": 14,
   "metadata": {},
   "outputs": [
    {
     "data": {
      "text/plain": [
       "array([[0, 1, 2, 3, 4],\n",
       "       [5, 6, 7, 8, 9]])"
      ]
     },
     "execution_count": 14,
     "metadata": {},
     "output_type": "execute_result"
    }
   ],
   "source": [
    "a= np.arange(10).reshape(2,5)\n",
    "a"
   ]
  },
  {
   "cell_type": "markdown",
   "metadata": {},
   "source": [
    "Array Operations"
   ]
  },
  {
   "cell_type": "code",
   "execution_count": 15,
   "metadata": {},
   "outputs": [
    {
     "name": "stdout",
     "output_type": "stream",
     "text": [
      "[3 5 7 9]\n",
      "[-1 -1 -1 -1]\n",
      "[21 22 23 24]\n",
      "[ 3  6  9 12]\n"
     ]
    }
   ],
   "source": [
    "a= np.array([1,2,3,4])\n",
    "b= np.array([2,3,4,5])\n",
    "print (a+b)\n",
    "print (a-b)\n",
    "print(a+20)\n",
    "a*=3\n",
    "print(a)"
   ]
  },
  {
   "cell_type": "code",
   "execution_count": 16,
   "metadata": {},
   "outputs": [
    {
     "name": "stdout",
     "output_type": "stream",
     "text": [
      "The original array\n",
      " [[ 0 10 20]\n",
      " [30 40 50]\n",
      " [60 70 80]]\n",
      "Row Sum [ 30 120 210]\n",
      "Col sum [ 90 120 150]\n"
     ]
    }
   ],
   "source": [
    "c= np.arange(9).reshape(3,3)\n",
    "c*=10\n",
    "print('The original array\\n',c)\n",
    "\n",
    "cRowSum=c.sum(axis=1)\n",
    "print('Row Sum',cRowSum)\n",
    "\n",
    "cColSum=c.sum(axis=0)\n",
    "print('Col sum',cColSum)\n"
   ]
  },
  {
   "cell_type": "code",
   "execution_count": 17,
   "metadata": {},
   "outputs": [
    {
     "name": "stdout",
     "output_type": "stream",
     "text": [
      "[[ 1  3]\n",
      " [ 2  5]\n",
      " [ 1  2]\n",
      " [ 1  0]\n",
      " [ 2 10]]\n",
      "(5, 2)\n",
      "[ 3 -1  2  0 -1]\n",
      "[3 2 0]\n",
      "1.6666666666666667\n"
     ]
    }
   ],
   "source": [
    "list_1 =  [[1,3],[2,5],[1,2],[1,0],[2,10]]\n",
    "arr= np.array(list_1)\n",
    "print(arr)\n",
    "\n",
    "print(arr.shape)\n",
    "\n",
    "ar= np.where(arr[:,0]==1, arr[:,1], int(-1))\n",
    "print(ar)\n",
    "\n",
    "ar=ar[ar!=-1]\n",
    "print(ar)\n",
    "\n",
    "mean1= np.mean(ar)\n",
    "print(mean1)\n"
   ]
  },
  {
   "cell_type": "code",
   "execution_count": 26,
   "metadata": {},
   "outputs": [
    {
     "name": "stdout",
     "output_type": "stream",
     "text": [
      "[[2 3 3]\n",
      " [0 4 4]]\n",
      "[['yes' 'no' 'no']\n",
      " ['yes' 'yes' 'yes']]\n"
     ]
    }
   ],
   "source": [
    "arr = np.random.randint(0,8,(2,3))\n",
    "print(arr)\n",
    "\n",
    "checked= np.where(arr%2!=0 , 'no', 'yes')\n",
    "print(checked)"
   ]
  },
  {
   "cell_type": "code",
   "execution_count": 30,
   "metadata": {},
   "outputs": [
    {
     "name": "stdout",
     "output_type": "stream",
     "text": [
      "[6 5 4 6 6]\n",
      "[6 6 4 5 6]\n"
     ]
    }
   ],
   "source": [
    "arr = np.random.randint(2,9, 5)\n",
    "print(arr)\n",
    "\n",
    "rev= np.flip(arr)\n",
    "print(rev)\n"
   ]
  },
  {
   "cell_type": "code",
   "execution_count": null,
   "metadata": {},
   "outputs": [],
   "source": []
  }
 ],
 "metadata": {
  "interpreter": {
   "hash": "53b144c10255056ba138318079d6915f61635f604f049884bb1cb292c1bb44d7"
  },
  "kernelspec": {
   "display_name": "Python 3.9.7 64-bit ('base': conda)",
   "language": "python",
   "name": "python3"
  },
  "language_info": {
   "codemirror_mode": {
    "name": "ipython",
    "version": 3
   },
   "file_extension": ".py",
   "mimetype": "text/x-python",
   "name": "python",
   "nbconvert_exporter": "python",
   "pygments_lexer": "ipython3",
   "version": "3.9.7"
  },
  "orig_nbformat": 4
 },
 "nbformat": 4,
 "nbformat_minor": 2
}
